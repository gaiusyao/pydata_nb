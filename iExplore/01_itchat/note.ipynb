{
 "cells": [
  {
   "cell_type": "code",
   "execution_count": 1,
   "metadata": {},
   "outputs": [
    {
     "name": "stdout",
     "output_type": "stream",
     "text": [
      "█\r"
     ]
    }
   ],
   "source": [
    "import itchat"
   ]
  },
  {
   "cell_type": "code",
   "execution_count": 2,
   "metadata": {},
   "outputs": [
    {
     "name": "stderr",
     "output_type": "stream",
     "text": [
      "Getting uuid of QR code.\n",
      "Downloading QR code.\n",
      "Please scan the QR code to log in.\n",
      "Please press confirm on your phone.\n",
      "Loading the contact, this may take a little while.\n",
      "Login successfully as G.Yao\n"
     ]
    }
   ],
   "source": [
    "itchat.auto_login(hotReload=True)"
   ]
  },
  {
   "cell_type": "code",
   "execution_count": 5,
   "metadata": {},
   "outputs": [
    {
     "data": {
      "text/plain": [
       "'G.Yao'"
      ]
     },
     "execution_count": 5,
     "metadata": {},
     "output_type": "execute_result"
    }
   ],
   "source": [
    "# itchat.search_friends()['NickName']"
   ]
  },
  {
   "cell_type": "code",
   "execution_count": 3,
   "metadata": {},
   "outputs": [],
   "source": [
    "friends = itchat.get_friends(update=True)[0:]"
   ]
  },
  {
   "cell_type": "code",
   "execution_count": 4,
   "metadata": {},
   "outputs": [
    {
     "data": {
      "text/plain": [
       "<User: {'MemberList': <ContactList: []>, 'UserName': '@a6994034d274ddd9c5b19742c00e0141f43651ddfe1d9451cb0ad456c972c786', 'City': '广州', 'DisplayName': '', 'PYQuanPin': 'GYao', 'RemarkPYInitial': '', 'Province': '广东', 'KeyWord': '', 'RemarkName': '', 'PYInitial': 'GYAO', 'EncryChatRoomId': '', 'Alias': '', 'Signature': 'Product Manager, Huge Nerd', 'NickName': 'G.Yao', 'RemarkPYQuanPin': '', 'HeadImgUrl': '/cgi-bin/mmwebwx-bin/webwxgeticon?seq=672936351&username=@a6994034d274ddd9c5b19742c00e0141f43651ddfe1d9451cb0ad456c972c786&skey=@crypt_882d4407_3741721c7f0c36795fdfad6afb07e889', 'UniFriend': 0, 'Sex': 1, 'AppAccountFlag': 0, 'VerifyFlag': 0, 'ChatRoomId': 0, 'HideInputBarFlag': 0, 'AttrStatus': 16882493, 'SnsFlag': 129, 'MemberCount': 0, 'OwnerUin': 0, 'ContactFlag': 2051, 'Uin': 2340413317, 'StarFriend': 0, 'Statues': 0, 'WebWxPluginSwitch': 0, 'HeadImgFlag': 1, 'IsOwner': 0}>"
      ]
     },
     "execution_count": 4,
     "metadata": {},
     "output_type": "execute_result"
    }
   ],
   "source": [
    "friends[0]"
   ]
  },
  {
   "cell_type": "code",
   "execution_count": 5,
   "metadata": {},
   "outputs": [],
   "source": [
    "user = itchat.search_friends(name='SATUO')[0]"
   ]
  },
  {
   "cell_type": "code",
   "execution_count": 6,
   "metadata": {},
   "outputs": [
    {
     "data": {
      "text/plain": [
       "<User: {'MemberList': <ContactList: []>, 'Uin': 0, 'UserName': '@a1534ebd893093c0464142be6aeea34e79659860562509cae7d1efbebedf5fd4', 'NickName': 'SATUO', 'HeadImgUrl': '/cgi-bin/mmwebwx-bin/webwxgeticon?seq=672936344&username=@a1534ebd893093c0464142be6aeea34e79659860562509cae7d1efbebedf5fd4&skey=@crypt_882d4407_3741721c7f0c36795fdfad6afb07e889', 'ContactFlag': 10243, 'MemberCount': 0, 'RemarkName': '🦁️🐯👸🏻', 'HideInputBarFlag': 0, 'Sex': 2, 'Signature': '努力是常态', 'VerifyFlag': 0, 'OwnerUin': 0, 'PYInitial': 'SATUO', 'PYQuanPin': 'SATUO', 'RemarkPYInitial': '??SPANCLASSEMOJIEMOJI1F42FSPANSPANCLASSEMOJIEMOJI1F478SPAN?', 'RemarkPYQuanPin': '??spanclassemojiemoji1f42fspanspanclassemojiemoji1f478span?', 'StarFriend': 0, 'AppAccountFlag': 0, 'Statues': 0, 'AttrStatus': 6437, 'Province': '', 'City': '', 'Alias': '', 'SnsFlag': 1, 'UniFriend': 0, 'DisplayName': '', 'ChatRoomId': 0, 'KeyWord': '', 'EncryChatRoomId': '', 'IsOwner': 0}>"
      ]
     },
     "execution_count": 6,
     "metadata": {},
     "output_type": "execute_result"
    }
   ],
   "source": [
    "user"
   ]
  },
  {
   "cell_type": "code",
   "execution_count": 7,
   "metadata": {},
   "outputs": [],
   "source": [
    "user_name = user['UserName']"
   ]
  },
  {
   "cell_type": "code",
   "execution_count": 12,
   "metadata": {},
   "outputs": [
    {
     "data": {
      "text/plain": [
       "<ItchatReturnValue: {'BaseResponse': {'Ret': 0, 'ErrMsg': '请求成功', 'RawMsg': '请求成功'}, 'MsgID': '3108391284672987774', 'LocalID': '15403754143625'}>"
      ]
     },
     "execution_count": 12,
     "metadata": {},
     "output_type": "execute_result"
    }
   ],
   "source": [
    "#itchat.send('走吧！', toUserName=user_name)"
   ]
  },
  {
   "cell_type": "code",
   "execution_count": 10,
   "metadata": {},
   "outputs": [],
   "source": [
    "import random\n",
    "\n",
    "word_list = ['哈哈', '嗯嗯', '还在忙', '略', '么么哒']\n",
    "\n",
    "\n",
    "random_word = random.sample(word_list, 1)[0]\n",
    "itchat.send(random_word, toUserName=user_name)"
   ]
  },
  {
   "cell_type": "code",
   "execution_count": 18,
   "metadata": {},
   "outputs": [
    {
     "name": "stderr",
     "output_type": "stream",
     "text": [
      "LOG OUT!\n"
     ]
    },
    {
     "data": {
      "text/plain": [
       "<ItchatReturnValue: {'BaseResponse': {'ErrMsg': '请求成功', 'Ret': 0, 'RawMsg': 'logout successfully.'}}>"
      ]
     },
     "execution_count": 18,
     "metadata": {},
     "output_type": "execute_result"
    }
   ],
   "source": [
    "itchat.logout()"
   ]
  },
  {
   "cell_type": "code",
   "execution_count": null,
   "metadata": {},
   "outputs": [],
   "source": []
  }
 ],
 "metadata": {
  "hide_input": false,
  "kernelspec": {
   "display_name": "Python 3",
   "language": "python",
   "name": "python3"
  },
  "language_info": {
   "codemirror_mode": {
    "name": "ipython",
    "version": 3
   },
   "file_extension": ".py",
   "mimetype": "text/x-python",
   "name": "python",
   "nbconvert_exporter": "python",
   "pygments_lexer": "ipython3",
   "version": "3.6.6"
  }
 },
 "nbformat": 4,
 "nbformat_minor": 2
}
