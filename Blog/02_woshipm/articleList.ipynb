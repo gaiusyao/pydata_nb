{
 "cells": [
  {
   "cell_type": "code",
   "execution_count": 1,
   "metadata": {},
   "outputs": [],
   "source": [
    "import pandas as pd\n",
    "\n",
    "import requests  \n",
    "\n",
    "import re\n",
    "import math\n",
    "import random\n",
    "import time\n",
    "\n",
    "from pymongo import MongoClient"
   ]
  },
  {
   "cell_type": "code",
   "execution_count": 2,
   "metadata": {},
   "outputs": [],
   "source": [
    "# 设置请求头\n",
    "headers = {\n",
    "    'Accept': 'text/html,application/xhtml+xml,application/xml;q=0.9,image/webp,image/apng,*/*;q=0.8',\n",
    "    'Accept-Encoding': 'gzip, deflate',\n",
    "    'Accept-Language': 'zh-CN,zh;q=0.9',\n",
    "    'Host': 'www.woshipm.com',\n",
    "    'Referer': 'http://www.woshipm.com/',\n",
    "    'User-Agent': 'Mozilla/5.0 (Windows NT 6.1; Win64; x64) AppleWebKit/537.36 (KHTML, like Gecko) Chrome/64.0.3282.140 Safari/537.36'\n",
    "}"
   ]
  },
  {
   "cell_type": "code",
   "execution_count": 3,
   "metadata": {},
   "outputs": [],
   "source": [
    "# 创建连接\n",
    "client = MongoClient('localhost', 27017)\n",
    "# 获取数据库\n",
    "db = client['iSpider']\n",
    "# 获取集合\n",
    "articles = db.woshipm_article\n",
    "content = db.woshipm_article_content"
   ]
  },
  {
   "cell_type": "code",
   "execution_count": 4,
   "metadata": {},
   "outputs": [],
   "source": [
    "# 获取 JSON 函数\n",
    "def getJSON(url, headers):\n",
    "    \"\"\" Get JSON\n",
    "    @ param url: str \n",
    "    @ param headers: dict, request headers\n",
    "    @ return json: JSON, result\n",
    "    \"\"\"\n",
    "    res = requests.get(url, headers=headers) \n",
    "    res.raise_for_status()  #抛出异常\n",
    "    res.encoding = 'utf-8'  \n",
    "    json = res.json()\n",
    "    return json"
   ]
  },
  {
   "cell_type": "code",
   "execution_count": 5,
   "metadata": {},
   "outputs": [],
   "source": [
    "# 获取文章列表函数\n",
    "def getArticleList(page, collection, headers):\n",
    "    \"\"\" Get Article List\n",
    "    @ param page: int\n",
    "    @ param headers: dict, request headers\n",
    "    @ param collection: pymongo.collection.Collection\n",
    "    \"\"\"\n",
    "    url = 'http://www.woshipm.com/__api/v1/stream-list/page/{0}'.format(page)\n",
    "    json = getJSON(url, headers)\n",
    "    \n",
    "    if json['success'] == 'true':\n",
    "        for article in json['payload']:\n",
    "            collection.insert_one(article)\n",
    "    else:\n",
    "        print(json['success'])\n",
    "        \n",
    "    print(\"获取第 {0} 页成功！\".format(page))"
   ]
  },
  {
   "cell_type": "code",
   "execution_count": 6,
   "metadata": {},
   "outputs": [],
   "source": [
    "article_list = articles.find({'is_event': False})"
   ]
  },
  {
   "cell_type": "code",
   "execution_count": 7,
   "metadata": {},
   "outputs": [
    {
     "data": {
      "text/html": [
       "<div>\n",
       "<style scoped>\n",
       "    .dataframe tbody tr th:only-of-type {\n",
       "        vertical-align: middle;\n",
       "    }\n",
       "\n",
       "    .dataframe tbody tr th {\n",
       "        vertical-align: top;\n",
       "    }\n",
       "\n",
       "    .dataframe thead th {\n",
       "        text-align: right;\n",
       "    }\n",
       "</style>\n",
       "<table border=\"1\" class=\"dataframe\">\n",
       "  <thead>\n",
       "    <tr style=\"text-align: right;\">\n",
       "      <th></th>\n",
       "      <th>0</th>\n",
       "      <th>1</th>\n",
       "    </tr>\n",
       "  </thead>\n",
       "  <tbody>\n",
       "    <tr>\n",
       "      <th>0</th>\n",
       "      <td>1797322</td>\n",
       "      <td>http://www.woshipm.com/pmd/1797322.html</td>\n",
       "    </tr>\n",
       "    <tr>\n",
       "      <th>1</th>\n",
       "      <td>1798253</td>\n",
       "      <td>http://www.woshipm.com/evaluating/1798253.html</td>\n",
       "    </tr>\n",
       "    <tr>\n",
       "      <th>2</th>\n",
       "      <td>1799172</td>\n",
       "      <td>http://www.woshipm.com/operate/1799172.html</td>\n",
       "    </tr>\n",
       "    <tr>\n",
       "      <th>3</th>\n",
       "      <td>1798571</td>\n",
       "      <td>http://www.woshipm.com/it/1798571.html</td>\n",
       "    </tr>\n",
       "    <tr>\n",
       "      <th>4</th>\n",
       "      <td>1795015</td>\n",
       "      <td>http://www.woshipm.com/zhichang/1795015.html</td>\n",
       "    </tr>\n",
       "  </tbody>\n",
       "</table>\n",
       "</div>"
      ],
      "text/plain": [
       "         0                                               1\n",
       "0  1797322         http://www.woshipm.com/pmd/1797322.html\n",
       "1  1798253  http://www.woshipm.com/evaluating/1798253.html\n",
       "2  1799172     http://www.woshipm.com/operate/1799172.html\n",
       "3  1798571          http://www.woshipm.com/it/1798571.html\n",
       "4  1795015    http://www.woshipm.com/zhichang/1795015.html"
      ]
     },
     "execution_count": 7,
     "metadata": {},
     "output_type": "execute_result"
    }
   ],
   "source": [
    "df_list = []\n",
    "\n",
    "for article in article_list:\n",
    "    df_row = []\n",
    "    df_row.append(article['id'])\n",
    "    df_row.append(article['permalink'])\n",
    "    df_list.append(df_row)\n",
    "    \n",
    "df = pd.DataFrame(df_list)\n",
    "df.head()"
   ]
  },
  {
   "cell_type": "code",
   "execution_count": 8,
   "metadata": {},
   "outputs": [],
   "source": [
    "df.to_csv('target.csv', index=False)"
   ]
  }
 ],
 "metadata": {
  "hide_input": false,
  "kernelspec": {
   "display_name": "Python 3",
   "language": "python",
   "name": "python3"
  },
  "language_info": {
   "codemirror_mode": {
    "name": "ipython",
    "version": 3
   },
   "file_extension": ".py",
   "mimetype": "text/x-python",
   "name": "python",
   "nbconvert_exporter": "python",
   "pygments_lexer": "ipython3",
   "version": "3.6.6"
  }
 },
 "nbformat": 4,
 "nbformat_minor": 2
}
